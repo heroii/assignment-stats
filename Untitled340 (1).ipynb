{
 "cells": [
  {
   "cell_type": "code",
   "execution_count": 1,
   "id": "9ee6a6ab-636a-4bda-b262-c7a65d712142",
   "metadata": {},
   "outputs": [],
   "source": [
    "#q1\n",
    "#Three measures of central tendency is mean ,median,mode"
   ]
  },
  {
   "cell_type": "code",
   "execution_count": 2,
   "id": "9a2c55b5-6040-4f85-923c-0420e1a6e2dc",
   "metadata": {},
   "outputs": [],
   "source": [
    "#q2\n",
    "#mean is basically the average of the dataset\n",
    "#mean=(x1+x2...xn)/n\n",
    "#median is the value which divides the sorted data in two equal parts\n",
    "#if the number of elements in a sorted data is odd, then the middle value\n",
    "#otherwise the mean of the two middle numbers in even sorted data\n",
    "# mode is the value occuring most of the time\n",
    "#it is value which is occuring for the most number of times"
   ]
  },
  {
   "cell_type": "code",
   "execution_count": 3,
   "id": "3cb46c6e-3fd6-416e-bcfb-5761022474f5",
   "metadata": {},
   "outputs": [
    {
     "data": {
      "text/plain": [
       "177.01875"
      ]
     },
     "execution_count": 3,
     "metadata": {},
     "output_type": "execute_result"
    }
   ],
   "source": [
    "#q3\n",
    "x= [178,177,176,177,178.2,178,175,179,180,175,178.9,176.2,177,172.5,178,176.5]\n",
    "import numpy as np\n",
    "from scipy import stats\n",
    "np.mean(x)"
   ]
  },
  {
   "cell_type": "code",
   "execution_count": 4,
   "id": "cde013da-5472-442d-bfc3-8a3049318de3",
   "metadata": {},
   "outputs": [
    {
     "data": {
      "text/plain": [
       "177.0"
      ]
     },
     "execution_count": 4,
     "metadata": {},
     "output_type": "execute_result"
    }
   ],
   "source": [
    "np.median(x)"
   ]
  },
  {
   "cell_type": "code",
   "execution_count": 5,
   "id": "55fe5e82-0bb6-4368-8a7d-1098eb22e49b",
   "metadata": {},
   "outputs": [
    {
     "name": "stderr",
     "output_type": "stream",
     "text": [
      "/tmp/ipykernel_619/1654510724.py:1: FutureWarning: Unlike other reduction functions (e.g. `skew`, `kurtosis`), the default behavior of `mode` typically preserves the axis it acts along. In SciPy 1.11.0, this behavior will change: the default value of `keepdims` will become False, the `axis` over which the statistic is taken will be eliminated, and the value None will no longer be accepted. Set `keepdims` to True or False to avoid this warning.\n",
      "  stats.mode(x)\n"
     ]
    },
    {
     "data": {
      "text/plain": [
       "ModeResult(mode=array([177.]), count=array([3]))"
      ]
     },
     "execution_count": 5,
     "metadata": {},
     "output_type": "execute_result"
    }
   ],
   "source": [
    "stats.mode(x)"
   ]
  },
  {
   "cell_type": "code",
   "execution_count": 6,
   "id": "5ac49437-35b9-4df7-a710-c00f781ac0eb",
   "metadata": {},
   "outputs": [
    {
     "data": {
      "text/plain": [
       "1.7885814036548633"
      ]
     },
     "execution_count": 6,
     "metadata": {},
     "output_type": "execute_result"
    }
   ],
   "source": [
    "#q4\n",
    "np.std(x)"
   ]
  },
  {
   "cell_type": "code",
   "execution_count": 9,
   "id": "64c7b869-9b95-4b82-8666-d6002a362db4",
   "metadata": {},
   "outputs": [
    {
     "data": {
      "text/plain": [
       "7.5"
      ]
     },
     "execution_count": 9,
     "metadata": {},
     "output_type": "execute_result"
    }
   ],
   "source": [
    "#dispersion is a stastical measure which shows the spread of data.\n",
    "#range measures the that measures the variance by subtracting the smallest value from the biggest value.\n",
    "# it could be affected with outliers \n",
    "np.max(x)-np.min(x)"
   ]
  },
  {
   "cell_type": "code",
   "execution_count": 10,
   "id": "1c6b79c0-2edd-49e9-a4e2-3c4aa6b1b47a",
   "metadata": {},
   "outputs": [
    {
     "data": {
      "text/plain": [
       "3.199023437500001"
      ]
     },
     "execution_count": 10,
     "metadata": {},
     "output_type": "execute_result"
    }
   ],
   "source": [
    "#variance shows the variance of data by subtracting each value from the mean and the adding for every set and the dividing it from number of elements from the data set\n",
    "np.var(x)"
   ]
  },
  {
   "cell_type": "code",
   "execution_count": 11,
   "id": "510476c8-12fc-461c-85ab-35804d6900a7",
   "metadata": {},
   "outputs": [
    {
     "data": {
      "text/plain": [
       "1.7885814036548633"
      ]
     },
     "execution_count": 11,
     "metadata": {},
     "output_type": "execute_result"
    }
   ],
   "source": [
    "#std is basically the root value of the variance\n",
    "np.std(x)"
   ]
  },
  {
   "cell_type": "code",
   "execution_count": 12,
   "id": "9cbee7b4-395a-4fb5-984d-00535e7b8544",
   "metadata": {},
   "outputs": [],
   "source": [
    "#q6\n",
    "#a diagram representing mathematical or logical sets pictorially as circles or closed curves within an enclosing rectangle (the universal set), common elements of the sets being represented by intersections of the circles"
   ]
  },
  {
   "cell_type": "code",
   "execution_count": 14,
   "id": "007919f9-df7b-45e4-b99c-ebbb8ce7b46a",
   "metadata": {},
   "outputs": [
    {
     "data": {
      "text/plain": [
       "array([2, 6])"
      ]
     },
     "execution_count": 14,
     "metadata": {},
     "output_type": "execute_result"
    }
   ],
   "source": [
    "#q7\n",
    "A = (2,3,4,5,6,7) \n",
    "B = (0,2,6,8,10)\n",
    "np.intersect1d(A,B)"
   ]
  },
  {
   "cell_type": "code",
   "execution_count": 16,
   "id": "507bf69f-b052-4683-8b67-287b568fff9a",
   "metadata": {},
   "outputs": [
    {
     "data": {
      "text/plain": [
       "array([ 0,  2,  3,  4,  5,  6,  7,  8, 10])"
      ]
     },
     "execution_count": 16,
     "metadata": {},
     "output_type": "execute_result"
    }
   ],
   "source": [
    "np.union1d(A,B)"
   ]
  },
  {
   "cell_type": "code",
   "execution_count": 17,
   "id": "fa75d8a7-1460-44d4-a6f5-ab4188acdc4b",
   "metadata": {},
   "outputs": [],
   "source": [
    "#q8\n",
    "#skewness means the data is not uniformly distributed either it is rightly or leftly more concentrated"
   ]
  },
  {
   "cell_type": "code",
   "execution_count": 18,
   "id": "dbfa009e-90d1-4bb7-a7d9-124bcb78515d",
   "metadata": {},
   "outputs": [],
   "source": [
    "#q9\n",
    "#mean is less than median"
   ]
  },
  {
   "cell_type": "code",
   "execution_count": 23,
   "id": "692f4943-5cf4-4748-afc7-8f2c7450625a",
   "metadata": {},
   "outputs": [
    {
     "data": {
      "text/plain": [
       "array(3.41229167)"
      ]
     },
     "execution_count": 23,
     "metadata": {},
     "output_type": "execute_result"
    }
   ],
   "source": [
    "#q10\n",
    "#covariance show the relationship between two variables\n",
    "#correlation shows the degree of relationship between two variables\n",
    "#the codmain of correlation is [-1,1]\n",
    "np.cov(x)"
   ]
  },
  {
   "cell_type": "code",
   "execution_count": 24,
   "id": "0f01ba72-5f68-4404-80fb-20e0ffa3b40c",
   "metadata": {},
   "outputs": [
    {
     "data": {
      "text/plain": [
       "1.0"
      ]
     },
     "execution_count": 24,
     "metadata": {},
     "output_type": "execute_result"
    }
   ],
   "source": [
    "np.corrcoef(x)"
   ]
  },
  {
   "cell_type": "code",
   "execution_count": 26,
   "id": "6627c9ee-0285-4103-8ede-bb21afbfff09",
   "metadata": {},
   "outputs": [
    {
     "data": {
      "text/plain": [
       "177.01875"
      ]
     },
     "execution_count": 26,
     "metadata": {},
     "output_type": "execute_result"
    }
   ],
   "source": [
    "#q11\n",
    "#mean is basically the average of the dataset\n",
    "#mean=(x1+x2...xn)/n\n",
    "np.mean(x)"
   ]
  },
  {
   "cell_type": "code",
   "execution_count": 27,
   "id": "51eff9bf-9075-4613-9d62-4091d178ad52",
   "metadata": {},
   "outputs": [],
   "source": [
    "#q12\n",
    "#median=mean=mode"
   ]
  },
  {
   "cell_type": "code",
   "execution_count": 28,
   "id": "9a6f199c-82e9-4210-85a5-af4f38a5856f",
   "metadata": {},
   "outputs": [],
   "source": [
    "#q13\n",
    "#covariance show the relationship between two variables\n",
    "#it is affected by change in scales\n",
    "#correlation shows the degree of relationship between two variables"
   ]
  },
  {
   "cell_type": "code",
   "execution_count": 29,
   "id": "a50de028-9d18-4b4d-9e37-44d0a74971b3",
   "metadata": {},
   "outputs": [],
   "source": [
    "#14"
   ]
  },
  {
   "cell_type": "code",
   "execution_count": 30,
   "id": "757a0349-efa3-476a-9845-7bfe12933694",
   "metadata": {},
   "outputs": [
    {
     "data": {
      "text/plain": [
       "[178,\n",
       " 177,\n",
       " 176,\n",
       " 177,\n",
       " 178.2,\n",
       " 178,\n",
       " 175,\n",
       " 179,\n",
       " 180,\n",
       " 175,\n",
       " 178.9,\n",
       " 176.2,\n",
       " 177,\n",
       " 172.5,\n",
       " 178,\n",
       " 176.5]"
      ]
     },
     "execution_count": 30,
     "metadata": {},
     "output_type": "execute_result"
    }
   ],
   "source": [
    "x"
   ]
  },
  {
   "cell_type": "code",
   "execution_count": 31,
   "id": "c7369b37-9d4a-4065-9034-88c5a7d4e11f",
   "metadata": {},
   "outputs": [],
   "source": [
    "# ouliers affect the central tendency(mean only) by inflating it much,median and mode are unsffected like dispersion"
   ]
  },
  {
   "cell_type": "code",
   "execution_count": 32,
   "id": "c725b3d8-d468-4407-a07e-ec377d7fa6a7",
   "metadata": {},
   "outputs": [],
   "source": [
    "x= [178,177,176,177,178.2,178,175,179,180,175,178.9,176.2,177,172.5,178,176.5]"
   ]
  },
  {
   "cell_type": "code",
   "execution_count": 33,
   "id": "1f88a86c-115f-4f8d-9c60-078246fab419",
   "metadata": {},
   "outputs": [
    {
     "data": {
      "text/plain": [
       "177.01875"
      ]
     },
     "execution_count": 33,
     "metadata": {},
     "output_type": "execute_result"
    }
   ],
   "source": [
    "np.mean(x)"
   ]
  },
  {
   "cell_type": "code",
   "execution_count": 34,
   "id": "afdbe4ec-088a-4275-bdbc-ce5f40b48546",
   "metadata": {},
   "outputs": [],
   "source": [
    "x1=[178,177,176,177,178.2,178,175,179,180,175,178.9,176.2,177,172.5,178,176.5,10000]"
   ]
  },
  {
   "cell_type": "code",
   "execution_count": null,
   "id": "8d9bd0d5-fa69-444c-a3c9-2fd40750fc40",
   "metadata": {},
   "outputs": [],
   "source": [
    "n"
   ]
  }
 ],
 "metadata": {
  "kernelspec": {
   "display_name": "Python 3 (ipykernel)",
   "language": "python",
   "name": "python3"
  },
  "language_info": {
   "codemirror_mode": {
    "name": "ipython",
    "version": 3
   },
   "file_extension": ".py",
   "mimetype": "text/x-python",
   "name": "python",
   "nbconvert_exporter": "python",
   "pygments_lexer": "ipython3",
   "version": "3.10.8"
  }
 },
 "nbformat": 4,
 "nbformat_minor": 5
}
